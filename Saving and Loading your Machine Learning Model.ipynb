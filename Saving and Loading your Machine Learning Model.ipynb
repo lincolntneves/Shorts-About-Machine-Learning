{
 "cells": [
  {
   "cell_type": "markdown",
   "id": "15f287c7-79c9-48ef-be94-b3707ea03b82",
   "metadata": {},
   "source": [
    "# Saving and Loading your Machine Learning Model\n",
    "\n",
    "The objective of this notebook is only to show up how to save a ML model and, after this step, to load then for use normally."
   ]
  },
  {
   "cell_type": "code",
   "execution_count": null,
   "id": "61d819c7-1b41-4f13-81c8-0efb07c710da",
   "metadata": {},
   "outputs": [],
   "source": [
    "# Loading de necessary packages\n",
    "import numpy as np\n",
    "import pandas as pd\n",
    "from sklearn.datasets import load_iris\n",
    "from sklearn import svm\n",
    "import pickle"
   ]
  },
  {
   "cell_type": "code",
   "execution_count": null,
   "id": "b9e02774-96eb-4d6b-b105-c05368ca8b7c",
   "metadata": {},
   "outputs": [],
   "source": [
    "# Loading the dataset Iris from sklearn\n",
    "iris = load_iris()"
   ]
  },
  {
   "cell_type": "code",
   "execution_count": null,
   "id": "aa78d14f-30ba-45b8-8ff7-a2008e92053c",
   "metadata": {},
   "outputs": [],
   "source": [
    "# Organizing X and y to train a machine learning model\n",
    "X = iris['data']\n",
    "y = iris['target']"
   ]
  },
  {
   "cell_type": "code",
   "execution_count": null,
   "id": "c59c9f8f-9f41-4c18-a349-4d4662c50ea6",
   "metadata": {},
   "outputs": [],
   "source": [
    "# Building my machine learning model\n",
    "clf = svm.SVC()\n",
    "clf.fit(X, y)"
   ]
  },
  {
   "cell_type": "code",
   "execution_count": null,
   "id": "65c7ae30-2a2a-4869-a4ee-59ea8550a308",
   "metadata": {},
   "outputs": [],
   "source": [
    "# Saving my machine learning model\n",
    "pickle.dump(clf, open(r'Z:\\clf.sav', 'wb'))"
   ]
  },
  {
   "cell_type": "code",
   "execution_count": null,
   "id": "b0a7e1dc-7fe0-46db-88aa-4212b471d873",
   "metadata": {},
   "outputs": [],
   "source": [
    "# Loading my machine learning model\n",
    "clf = pickle.load(open(r'Z:\\clf.sav', 'rb'))"
   ]
  },
  {
   "cell_type": "code",
   "execution_count": null,
   "id": "1a59915d-4ed6-491e-9459-2d98fddd9af6",
   "metadata": {},
   "outputs": [],
   "source": [
    "# After you ca use the same machine learning model to predict\n",
    "# Alert: Here I'm using the same X and y because It's just an example\n",
    "y_pred = clf.predict(X, y)"
   ]
  }
 ],
 "metadata": {
  "kernelspec": {
   "display_name": "Python 3",
   "language": "python",
   "name": "python3"
  },
  "language_info": {
   "codemirror_mode": {
    "name": "ipython",
    "version": 3
   },
   "file_extension": ".py",
   "mimetype": "text/x-python",
   "name": "python",
   "nbconvert_exporter": "python",
   "pygments_lexer": "ipython3",
   "version": "3.9.5"
  }
 },
 "nbformat": 4,
 "nbformat_minor": 5
}
