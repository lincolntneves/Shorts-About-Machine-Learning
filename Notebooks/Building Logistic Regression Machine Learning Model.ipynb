{
 "cells": [
  {
   "cell_type": "markdown",
   "id": "5e6fe6be-209a-4af6-93d3-43367d4479b0",
   "metadata": {},
   "source": [
    "# Building Logistic Regression Machine Learning Model\n",
    "\n",
    "The objective of this notebook is only to show up how train a machine learning model using Logistic Regression algorithm for classification."
   ]
  },
  {
   "cell_type": "code",
   "execution_count": 1,
   "id": "6ae3a494-5ba3-4ea2-a05a-9f281fc104db",
   "metadata": {},
   "outputs": [],
   "source": [
    "# Loading de necessary packages\n",
    "import numpy as np\n",
    "import pandas as pd\n",
    "from sklearn.datasets import load_breast_cancer\n",
    "from sklearn.linear_model import LogisticRegression\n",
    "from sklearn.model_selection import train_test_split"
   ]
  },
  {
   "cell_type": "code",
   "execution_count": 2,
   "id": "cbbcbe5a-39c7-47b2-b7c7-1910451901c2",
   "metadata": {},
   "outputs": [],
   "source": [
    "# Loading the dataset Iris from sklearn\n",
    "load_breast_cancer = load_breast_cancer()"
   ]
  },
  {
   "cell_type": "code",
   "execution_count": 3,
   "id": "f20af744-34d2-4eac-9218-b260f9d81c44",
   "metadata": {},
   "outputs": [],
   "source": [
    "# Organizing X and y to train a machine learning model\n",
    "X = load_breast_cancer['data']\n",
    "y = load_breast_cancer['target']"
   ]
  },
  {
   "cell_type": "code",
   "execution_count": 4,
   "id": "190ccd3d-1ced-434a-b77b-b27394472dd0",
   "metadata": {},
   "outputs": [],
   "source": [
    "# Split your dataframe into random train and test subsets\n",
    "# On this case I use 30% of the dataframe to test and 70% to train\n",
    "X_train, X_test, y_train, y_test = train_test_split(X, y, test_size=0.30, random_state=42)"
   ]
  },
  {
   "cell_type": "code",
   "execution_count": 5,
   "id": "90bb2b41-3ee9-496c-9f9a-df62051c1f50",
   "metadata": {},
   "outputs": [
    {
     "name": "stderr",
     "output_type": "stream",
     "text": [
      "c:\\users\\lincoln.thiago.neves\\appdata\\local\\programs\\python\\python39\\lib\\site-packages\\sklearn\\linear_model\\_logistic.py:814: ConvergenceWarning: lbfgs failed to converge (status=1):\n",
      "STOP: TOTAL NO. of ITERATIONS REACHED LIMIT.\n",
      "\n",
      "Increase the number of iterations (max_iter) or scale the data as shown in:\n",
      "    https://scikit-learn.org/stable/modules/preprocessing.html\n",
      "Please also refer to the documentation for alternative solver options:\n",
      "    https://scikit-learn.org/stable/modules/linear_model.html#logistic-regression\n",
      "  n_iter_i = _check_optimize_result(\n"
     ]
    },
    {
     "data": {
      "text/plain": [
       "LogisticRegression(random_state=0)"
      ]
     },
     "execution_count": 5,
     "metadata": {},
     "output_type": "execute_result"
    }
   ],
   "source": [
    "# Building my machine learning model with the train subset\n",
    "clf = LogisticRegression(random_state=0)\n",
    "clf.fit(X_train, y_train)"
   ]
  }
 ],
 "metadata": {
  "kernelspec": {
   "display_name": "Python 3",
   "language": "python",
   "name": "python3"
  },
  "language_info": {
   "codemirror_mode": {
    "name": "ipython",
    "version": 3
   },
   "file_extension": ".py",
   "mimetype": "text/x-python",
   "name": "python",
   "nbconvert_exporter": "python",
   "pygments_lexer": "ipython3",
   "version": "3.9.5"
  }
 },
 "nbformat": 4,
 "nbformat_minor": 5
}
