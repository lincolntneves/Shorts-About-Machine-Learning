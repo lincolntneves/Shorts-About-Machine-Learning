{
 "cells": [
  {
   "cell_type": "markdown",
   "id": "e01425c3-44a3-498f-966c-deee77d75a82",
   "metadata": {},
   "source": [
    "# Building Random Forest Machine Learning Model\n",
    "\n",
    "The objective of this notebook is only to show up how train a machine learning model using Random Forest algorithm for classification."
   ]
  },
  {
   "cell_type": "code",
   "execution_count": 1,
   "id": "699ddd66-7dea-417e-8932-8050e151de86",
   "metadata": {},
   "outputs": [],
   "source": [
    "# Loading de necessary packages\n",
    "import numpy as np\n",
    "import pandas as pd\n",
    "from sklearn.datasets import load_breast_cancer\n",
    "from sklearn.ensemble import RandomForestClassifier\n",
    "from sklearn.model_selection import train_test_split"
   ]
  },
  {
   "cell_type": "code",
   "execution_count": 2,
   "id": "38d8d6ff-cec7-42a0-acc2-1175f26d1843",
   "metadata": {},
   "outputs": [],
   "source": [
    "# Loading the dataset Iris from sklearn\n",
    "load_breast_cancer = load_breast_cancer()"
   ]
  },
  {
   "cell_type": "code",
   "execution_count": 3,
   "id": "644db3b0-ff3d-43e4-b908-c44a5824cb9a",
   "metadata": {},
   "outputs": [],
   "source": [
    "# Organizing X and y to train a machine learning model\n",
    "X = load_breast_cancer['data']\n",
    "y = load_breast_cancer['target']"
   ]
  },
  {
   "cell_type": "code",
   "execution_count": 4,
   "id": "ccd3a6b5-30a9-4fde-a34d-6f3c2c6f2fbd",
   "metadata": {},
   "outputs": [],
   "source": [
    "# Split your dataframe into random train and test subsets\n",
    "# On this case I use 30% of the dataframe to test and 70% to train\n",
    "X_train, X_test, y_train, y_test = train_test_split(X, y, test_size=0.30, random_state=42)"
   ]
  },
  {
   "cell_type": "code",
   "execution_count": 5,
   "id": "510d5457-d27b-41a4-814d-13d1461eb79a",
   "metadata": {},
   "outputs": [
    {
     "data": {
      "text/plain": [
       "RandomForestClassifier(random_state=0)"
      ]
     },
     "execution_count": 5,
     "metadata": {},
     "output_type": "execute_result"
    }
   ],
   "source": [
    "# Building my machine learning model with the train subset\n",
    "clf = RandomForestClassifier(random_state=0)\n",
    "clf.fit(X_train, y_train)"
   ]
  }
 ],
 "metadata": {
  "kernelspec": {
   "display_name": "Python 3",
   "language": "python",
   "name": "python3"
  },
  "language_info": {
   "codemirror_mode": {
    "name": "ipython",
    "version": 3
   },
   "file_extension": ".py",
   "mimetype": "text/x-python",
   "name": "python",
   "nbconvert_exporter": "python",
   "pygments_lexer": "ipython3",
   "version": "3.9.5"
  }
 },
 "nbformat": 4,
 "nbformat_minor": 5
}
