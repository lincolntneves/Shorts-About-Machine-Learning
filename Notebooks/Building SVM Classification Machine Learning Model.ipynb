{
 "cells": [
  {
   "cell_type": "markdown",
   "id": "5075210f-bd60-4b6e-9b54-2dbda223b294",
   "metadata": {},
   "source": [
    "# Building SVM Machine Learning Model\n",
    "\n",
    "The objective of this notebook is only to show up how train a machine learning model using SVM algorithm for classification."
   ]
  },
  {
   "cell_type": "code",
   "execution_count": 1,
   "id": "71d50d63-2b4d-4952-8368-b7d1ebc25380",
   "metadata": {},
   "outputs": [],
   "source": [
    "# Loading de necessary packages\n",
    "import numpy as np\n",
    "import pandas as pd\n",
    "from sklearn.datasets import load_breast_cancer\n",
    "from sklearn import svm\n",
    "from sklearn.model_selection import train_test_split"
   ]
  },
  {
   "cell_type": "code",
   "execution_count": 2,
   "id": "d57a11c9-103a-4e1a-807b-4a3393adf7bf",
   "metadata": {},
   "outputs": [],
   "source": [
    "# Loading the dataset Iris from sklearn\n",
    "load_breast_cancer = load_breast_cancer()"
   ]
  },
  {
   "cell_type": "code",
   "execution_count": 3,
   "id": "99912d72-4ca7-4082-8f87-cea7e9201c07",
   "metadata": {},
   "outputs": [],
   "source": [
    "# Organizing X and y to train a machine learning model\n",
    "X = load_breast_cancer['data']\n",
    "y = load_breast_cancer['target']"
   ]
  },
  {
   "cell_type": "code",
   "execution_count": 4,
   "id": "d5e6622f-7060-49ab-b9d6-7d8b32d6724d",
   "metadata": {},
   "outputs": [],
   "source": [
    "# Split your dataframe into random train and test subsets\n",
    "# On this case I use 30% of the dataframe to test and 70% to train\n",
    "X_train, X_test, y_train, y_test = train_test_split(X, y, test_size=0.30, random_state=42)"
   ]
  },
  {
   "cell_type": "code",
   "execution_count": 5,
   "id": "e2eca76c-4f38-4fca-bc47-27bff97c3e04",
   "metadata": {},
   "outputs": [
    {
     "data": {
      "text/plain": [
       "SVC()"
      ]
     },
     "execution_count": 5,
     "metadata": {},
     "output_type": "execute_result"
    }
   ],
   "source": [
    "# Building my machine learning model with the train subset\n",
    "clf = svm.SVC()\n",
    "clf.fit(X_train, y_train)"
   ]
  }
 ],
 "metadata": {
  "kernelspec": {
   "display_name": "Python 3",
   "language": "python",
   "name": "python3"
  },
  "language_info": {
   "codemirror_mode": {
    "name": "ipython",
    "version": 3
   },
   "file_extension": ".py",
   "mimetype": "text/x-python",
   "name": "python",
   "nbconvert_exporter": "python",
   "pygments_lexer": "ipython3",
   "version": "3.9.5"
  }
 },
 "nbformat": 4,
 "nbformat_minor": 5
}
