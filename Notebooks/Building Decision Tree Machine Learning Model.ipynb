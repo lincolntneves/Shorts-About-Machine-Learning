{
 "cells": [
  {
   "cell_type": "markdown",
   "id": "642032bd-d379-409d-bfc8-3e49a8bb6b68",
   "metadata": {},
   "source": [
    "# Building Decision Tree Machine Learning Model\n",
    "\n",
    "The objective of this notebook is only to show up how train a machine learning model using Decision Tree algorithm for classification."
   ]
  },
  {
   "cell_type": "code",
   "execution_count": 1,
   "id": "c5a7f067-f2ac-446a-b53c-3b481c2ac6c7",
   "metadata": {},
   "outputs": [],
   "source": [
    "# Loading de necessary packages\n",
    "import numpy as np\n",
    "import pandas as pd\n",
    "from sklearn.datasets import load_breast_cancer\n",
    "from sklearn.tree import DecisionTreeClassifier\n",
    "from sklearn.model_selection import train_test_split"
   ]
  },
  {
   "cell_type": "code",
   "execution_count": 2,
   "id": "050fe02b-08f4-4f8b-9751-08f4297e80aa",
   "metadata": {},
   "outputs": [],
   "source": [
    "# Loading the dataset Iris from sklearn\n",
    "load_breast_cancer = load_breast_cancer()"
   ]
  },
  {
   "cell_type": "code",
   "execution_count": 3,
   "id": "d36ec840-72c4-49f5-964f-3d3d503ab786",
   "metadata": {},
   "outputs": [],
   "source": [
    "# Organizing X and y to train a machine learning model\n",
    "X = load_breast_cancer['data']\n",
    "y = load_breast_cancer['target']"
   ]
  },
  {
   "cell_type": "code",
   "execution_count": 4,
   "id": "1dacd974-f542-4a1e-b53d-5099bb982d02",
   "metadata": {},
   "outputs": [],
   "source": [
    "# Split your dataframe into random train and test subsets\n",
    "# On this case I use 30% of the dataframe to test and 70% to train\n",
    "X_train, X_test, y_train, y_test = train_test_split(X, y, test_size=0.30, random_state=42)"
   ]
  },
  {
   "cell_type": "code",
   "execution_count": 5,
   "id": "fb463d9e-ae65-4c31-9992-4130332f03f7",
   "metadata": {},
   "outputs": [
    {
     "data": {
      "text/plain": [
       "DecisionTreeClassifier(random_state=0)"
      ]
     },
     "execution_count": 5,
     "metadata": {},
     "output_type": "execute_result"
    }
   ],
   "source": [
    "# Building my machine learning model with the train subset\n",
    "clf = DecisionTreeClassifier(random_state=0)\n",
    "clf.fit(X_train, y_train)"
   ]
  }
 ],
 "metadata": {
  "kernelspec": {
   "display_name": "Python 3",
   "language": "python",
   "name": "python3"
  },
  "language_info": {
   "codemirror_mode": {
    "name": "ipython",
    "version": 3
   },
   "file_extension": ".py",
   "mimetype": "text/x-python",
   "name": "python",
   "nbconvert_exporter": "python",
   "pygments_lexer": "ipython3",
   "version": "3.9.5"
  }
 },
 "nbformat": 4,
 "nbformat_minor": 5
}
