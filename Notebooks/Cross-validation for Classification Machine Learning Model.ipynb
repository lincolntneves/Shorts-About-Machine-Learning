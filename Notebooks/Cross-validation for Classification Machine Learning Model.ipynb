{
 "cells": [
  {
   "cell_type": "markdown",
   "id": "47811a35-dd9a-4c7d-bc33-3d7238b5fb65",
   "metadata": {},
   "source": [
    "# Cross-validation for Classification Machine Learning Model\n",
    "\n",
    "The objective of this notebook is only to show up how to use cross-validation to verify the classification ML model quality"
   ]
  },
  {
   "cell_type": "code",
   "execution_count": 1,
   "id": "4490b416-bdd6-4cb1-9d81-5eb4be62efdc",
   "metadata": {},
   "outputs": [],
   "source": [
    "# Loading de necessary packages\n",
    "import numpy as np\n",
    "import pandas as pd\n",
    "from sklearn.datasets import load_breast_cancer\n",
    "from sklearn import svm\n",
    "from sklearn import metrics\n",
    "from sklearn.model_selection import cross_val_predict\n",
    "from sklearn.metrics import roc_curve\n",
    "from scipy import stats"
   ]
  },
  {
   "cell_type": "code",
   "execution_count": 2,
   "id": "cab12cb4-b988-4e75-b174-88f364003187",
   "metadata": {},
   "outputs": [],
   "source": [
    "# Loading the dataset Iris from sklearn\n",
    "load_breast_cancer = load_breast_cancer()"
   ]
  },
  {
   "cell_type": "code",
   "execution_count": 3,
   "id": "3cdb8514-0c7c-43a6-b6ae-c5206ffb15da",
   "metadata": {},
   "outputs": [],
   "source": [
    "# Organizing X and y to train a machine learning model\n",
    "X = load_breast_cancer['data']\n",
    "y = load_breast_cancer['target']"
   ]
  },
  {
   "cell_type": "code",
   "execution_count": 4,
   "id": "6735b3b9-fa6b-443a-abfc-7b4075146a87",
   "metadata": {},
   "outputs": [
    {
     "data": {
      "text/plain": [
       "SVC()"
      ]
     },
     "execution_count": 4,
     "metadata": {},
     "output_type": "execute_result"
    }
   ],
   "source": [
    "# Building my machine learning model\n",
    "clf = svm.SVC()\n",
    "clf.fit(X, y)"
   ]
  },
  {
   "cell_type": "code",
   "execution_count": 5,
   "id": "0195bc9c-1b52-43ce-9769-782679790a43",
   "metadata": {},
   "outputs": [],
   "source": [
    "# Apllying cross-validations\n",
    "results = cross_val_predict(clf, X, y, cv = 5)"
   ]
  },
  {
   "cell_type": "code",
   "execution_count": 6,
   "id": "cc7392d9-2da3-455d-9456-6b59a550d2c1",
   "metadata": {},
   "outputs": [
    {
     "name": "stdout",
     "output_type": "stream",
     "text": [
      "Acurácia: 0.9121265377855887\n",
      "F1-Score: 0.9333333333333333\n",
      "Precisão: 0.8905852417302799\n",
      "Recall: 0.9803921568627451\n",
      "AUC: 0.8887809840917499\n",
      "KS: 0.7775619681834998\n"
     ]
    }
   ],
   "source": [
    "# Calculating the most used indicators about classification ml model quality\n",
    "print('Acurácia:', metrics.accuracy_score(y, results))\n",
    "print('F1-Score:',metrics.f1_score(y, results))\n",
    "print('Precisão:',metrics.precision_score(y, results))\n",
    "print('Recall:',metrics.recall_score(y, results))\n",
    "print('AUC:',metrics.roc_auc_score(y, results))\n",
    "print('KS:',stats.ks_2samp(results[y == 1], results[y == 0]).statistic)"
   ]
  }
 ],
 "metadata": {
  "kernelspec": {
   "display_name": "Python 3",
   "language": "python",
   "name": "python3"
  },
  "language_info": {
   "codemirror_mode": {
    "name": "ipython",
    "version": 3
   },
   "file_extension": ".py",
   "mimetype": "text/x-python",
   "name": "python",
   "nbconvert_exporter": "python",
   "pygments_lexer": "ipython3",
   "version": "3.9.5"
  }
 },
 "nbformat": 4,
 "nbformat_minor": 5
}
