{
 "cells": [
  {
   "cell_type": "markdown",
   "id": "8545c2b8-9561-4f88-b8a6-bd2c69f040f1",
   "metadata": {},
   "source": [
    "# Building a confusion matrix to analyse my Classification Machine Learning Model\n",
    "\n",
    "The objective of this notebook is only to show up how to use crosstab() to build a confusion matrix and calulate accuracy, precision and recall."
   ]
  },
  {
   "cell_type": "code",
   "execution_count": 1,
   "id": "577fd484-a4ec-491f-884a-cdacdac392cc",
   "metadata": {},
   "outputs": [],
   "source": [
    "# Loading de necessary packages\n",
    "import numpy as np\n",
    "import pandas as pd\n",
    "from sklearn.datasets import load_breast_cancer\n",
    "from sklearn import svm\n",
    "from sklearn import metrics\n",
    "from sklearn.model_selection import cross_val_predict\n",
    "from sklearn.model_selection import train_test_split\n",
    "from sklearn.metrics import roc_curve\n",
    "from scipy import stats"
   ]
  },
  {
   "cell_type": "code",
   "execution_count": 2,
   "id": "8e786356-db97-4c25-a06e-468ba36b382c",
   "metadata": {},
   "outputs": [],
   "source": [
    "# Loading the dataset Iris from sklearn\n",
    "load_breast_cancer = load_breast_cancer()"
   ]
  },
  {
   "cell_type": "code",
   "execution_count": 3,
   "id": "290a4bc2-1a8b-451b-813e-bdefe92c07b7",
   "metadata": {},
   "outputs": [],
   "source": [
    "# Organizing X and y to train a machine learning model\n",
    "X = load_breast_cancer['data']\n",
    "y = load_breast_cancer['target']"
   ]
  },
  {
   "cell_type": "code",
   "execution_count": 4,
   "id": "7800587c-5534-4c68-8a49-b5d1a7b9df8a",
   "metadata": {},
   "outputs": [],
   "source": [
    "# Split your dataframe into random train and test subsets\n",
    "# On this case I use 30% of the dataframe to test and 70% to train\n",
    "X_train, X_test, y_train, y_test = train_test_split(X, y, test_size=0.30, random_state=42)"
   ]
  },
  {
   "cell_type": "code",
   "execution_count": 5,
   "id": "a1590c73-bf4e-4a82-a40d-0d22fbb95e90",
   "metadata": {},
   "outputs": [
    {
     "data": {
      "text/plain": [
       "SVC()"
      ]
     },
     "execution_count": 5,
     "metadata": {},
     "output_type": "execute_result"
    }
   ],
   "source": [
    "# Building my machine learning model with the train subset\n",
    "clf = svm.SVC()\n",
    "clf.fit(X_train, y_train)"
   ]
  },
  {
   "cell_type": "code",
   "execution_count": 6,
   "id": "b939dd51-0dd9-4db8-b87c-87ce83163861",
   "metadata": {},
   "outputs": [],
   "source": [
    "# Here I'm using 'preditct' to have the flag 0 or 1, but I'm also using\n",
    "y_valid = clf.predict(X_test)"
   ]
  },
  {
   "cell_type": "code",
   "execution_count": 7,
   "id": "d86e4b80-b778-4dd3-95b1-7b19101d09b6",
   "metadata": {},
   "outputs": [
    {
     "data": {
      "text/html": [
       "<div>\n",
       "<style scoped>\n",
       "    .dataframe tbody tr th:only-of-type {\n",
       "        vertical-align: middle;\n",
       "    }\n",
       "\n",
       "    .dataframe tbody tr th {\n",
       "        vertical-align: top;\n",
       "    }\n",
       "\n",
       "    .dataframe thead th {\n",
       "        text-align: right;\n",
       "    }\n",
       "</style>\n",
       "<table border=\"1\" class=\"dataframe\">\n",
       "  <thead>\n",
       "    <tr style=\"text-align: right;\">\n",
       "      <th>Predicted</th>\n",
       "      <th>0</th>\n",
       "      <th>1</th>\n",
       "      <th>All</th>\n",
       "    </tr>\n",
       "    <tr>\n",
       "      <th>Actual</th>\n",
       "      <th></th>\n",
       "      <th></th>\n",
       "      <th></th>\n",
       "    </tr>\n",
       "  </thead>\n",
       "  <tbody>\n",
       "    <tr>\n",
       "      <th>0</th>\n",
       "      <td>52</td>\n",
       "      <td>11</td>\n",
       "      <td>63</td>\n",
       "    </tr>\n",
       "    <tr>\n",
       "      <th>1</th>\n",
       "      <td>0</td>\n",
       "      <td>108</td>\n",
       "      <td>108</td>\n",
       "    </tr>\n",
       "    <tr>\n",
       "      <th>All</th>\n",
       "      <td>52</td>\n",
       "      <td>119</td>\n",
       "      <td>171</td>\n",
       "    </tr>\n",
       "  </tbody>\n",
       "</table>\n",
       "</div>"
      ],
      "text/plain": [
       "Predicted   0    1  All\n",
       "Actual                 \n",
       "0          52   11   63\n",
       "1           0  108  108\n",
       "All        52  119  171"
      ]
     },
     "execution_count": 7,
     "metadata": {},
     "output_type": "execute_result"
    }
   ],
   "source": [
    "# confusion matrix\n",
    "cm = pd.crosstab(y_test, y_valid, rownames=['Actual'], colnames=['Predicted'], margins=True)\n",
    "cm"
   ]
  },
  {
   "cell_type": "code",
   "execution_count": 8,
   "id": "3d56c761-8442-458e-a532-c74183dbdbad",
   "metadata": {},
   "outputs": [
    {
     "data": {
      "text/plain": [
       "0.935672514619883"
      ]
     },
     "execution_count": 8,
     "metadata": {},
     "output_type": "execute_result"
    }
   ],
   "source": [
    "accuracy = (cm[0][0] + cm[1][1]) / (cm[0][0] + cm[0][1] + cm[1][1] + cm[1][0])\n",
    "accuracy"
   ]
  },
  {
   "cell_type": "code",
   "execution_count": 9,
   "id": "1e6583c5-e3ad-419b-81f2-02d32a9e7bfa",
   "metadata": {},
   "outputs": [
    {
     "data": {
      "text/plain": [
       "0.907563025210084"
      ]
     },
     "execution_count": 9,
     "metadata": {},
     "output_type": "execute_result"
    }
   ],
   "source": [
    "precision = (cm[1][1]) / (cm[1][1] + cm[1][0])\n",
    "precision"
   ]
  },
  {
   "cell_type": "code",
   "execution_count": 10,
   "id": "6e4fcd66-ae42-4100-9d35-508b104679e8",
   "metadata": {},
   "outputs": [
    {
     "data": {
      "text/plain": [
       "1.0"
      ]
     },
     "execution_count": 10,
     "metadata": {},
     "output_type": "execute_result"
    }
   ],
   "source": [
    "recall = (cm[1][1]) / (cm[0][1] + cm[1][1])\n",
    "recall"
   ]
  }
 ],
 "metadata": {
  "kernelspec": {
   "display_name": "Python 3",
   "language": "python",
   "name": "python3"
  },
  "language_info": {
   "codemirror_mode": {
    "name": "ipython",
    "version": 3
   },
   "file_extension": ".py",
   "mimetype": "text/x-python",
   "name": "python",
   "nbconvert_exporter": "python",
   "pygments_lexer": "ipython3",
   "version": "3.9.5"
  }
 },
 "nbformat": 4,
 "nbformat_minor": 5
}
